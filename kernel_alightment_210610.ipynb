{
 "cells": [
  {
   "cell_type": "markdown",
   "metadata": {},
   "source": [
    "# import "
   ]
  },
  {
   "cell_type": "code",
   "execution_count": 1,
   "metadata": {
    "ExecuteTime": {
     "end_time": "2021-06-10T04:35:43.630993Z",
     "start_time": "2021-06-10T04:35:42.566730Z"
    }
   },
   "outputs": [],
   "source": [
    "from scipy.spatial.distance import pdist, squareform\n",
    "\n",
    "from numpy import linalg as LA\n",
    "\n",
    "from scipy.linalg import eigh, eig \n",
    "\n",
    "import numpy as np \n",
    "import numpy \n",
    "from sklearn.datasets import make_moons\n",
    "from matplotlib import pyplot as plt \n",
    "from cvxopt import matrix \n",
    "import cvxopt \n",
    "import numpy \n",
    "%matplotlib inline "
   ]
  },
  {
   "cell_type": "markdown",
   "metadata": {},
   "source": [
    "# 问题    "
   ]
  },
  {
   "cell_type": "markdown",
   "metadata": {
    "ExecuteTime": {
     "end_time": "2021-06-10T04:14:48.369945Z",
     "start_time": "2021-06-10T04:14:48.367467Z"
    }
   },
   "source": [
    "## 转化为 qp "
   ]
  },
  {
   "cell_type": "markdown",
   "metadata": {},
   "source": [
    "\n",
    "\\begin{align}\n",
    "\\max & \\sum_{i} \\alpha_{i}<v_i,y >_{F}^2 - \\lambda ( \\sum_{i}\\alpha_{i}^2 -1 ) \\\\\n",
    "st. & \\quad \\alpha_{i} \\geq 0 \\quad  \\forall i   \\\\\n",
    "\\end{align}\n",
    "为什么令 核对齐的分母等于常数？ \n",
    "为什么 $\\lambda $ 也可以为常数？ \n",
    "\n",
    "\\begin{align}\n",
    "\\min &   \\sum_{i}\\alpha_{i}^2   -  \\sum_{i} \\alpha_{i}<v_i,y >_{F}^2 \\\\\n",
    "st. &  \\quad \\alpha_{i} \\geq 0 \\forall i   \\\\\n",
    "\\end{align}"
   ]
  },
  {
   "cell_type": "markdown",
   "metadata": {},
   "source": [
    "上面优化问题可以化为二次规划问题： \n",
    "\\begin{align}\n",
    " \\min & \\quad     \\alpha^T  I_p \\alpha  + b^T\\alpha \\\\\n",
    " st. & \\quad -\\alpha  \\leq 0    \n",
    "\\end{align}\n",
    "where $I_p$ is identity matrix, $p$ is the number of eigen vectors, $\\alpha=(\\alpha_1, ..., \\alpha_p)$, $b =-(<v_1,y >_{F}^2, ..., <v_p,y >_{F}^2)$"
   ]
  },
  {
   "cell_type": "markdown",
   "metadata": {},
   "source": [
    "对比 二次规划的标准形式： \n",
    "\\begin{align}\n",
    " \\min & \\quad    1/2  x^T  P x  +  q^T x \\\\\n",
    " st. & \\quad Gx  \\preccurlyeq h     \\\\\n",
    "\\end{align}\n",
    "需要四个输入 (P, q, G, h)\n",
    "对应的， 四个值分别是 \n",
    "\\begin{align*} \n",
    "P &=   2I_p \\\\ \n",
    "q &= b \\\\ \n",
    "G &=  -I_p \\\\ \n",
    "h &=  \\mathbf{0}  \\\\\n",
    "x &=  \\alpha  \\\\ \n",
    "\\end{align*}"
   ]
  },
  {
   "cell_type": "markdown",
   "metadata": {},
   "source": [
    "## qp solover "
   ]
  },
  {
   "cell_type": "code",
   "execution_count": 2,
   "metadata": {
    "ExecuteTime": {
     "end_time": "2021-06-10T04:35:43.651456Z",
     "start_time": "2021-06-10T04:35:43.633726Z"
    }
   },
   "outputs": [],
   "source": [
    "def cvxopt_solve_qp(P, q, G=None, h=None, A=None, b=None):\n",
    "    P = .5 * (P + P.T)  # make sure P is symmetric\n",
    "    #print ( \"G::: \")\n",
    "    #print ( G )\n",
    "    args = [cvxopt.matrix(P,tc=\"d\"), cvxopt.matrix(q,  tc=\"d\")]\n",
    "    \n",
    "    if G is not None:\n",
    "        args.extend([cvxopt.matrix(G,tc=\"d\"), cvxopt.matrix(h,tc=\"d\")])\n",
    "        if A is not None:\n",
    "            args.extend([cvxopt.matrix(A,tc=\"d\"), cvxopt.matrix(b,tc=\"d\" )])\n",
    "    print  ( args  )\n",
    "    sol = cvxopt.solvers.qp(*args)\n",
    "    if 'optimal' not in sol['status']:\n",
    "        return None\n",
    "    return numpy.array(sol['x']).reshape((P.shape[1],))"
   ]
  },
  {
   "cell_type": "code",
   "execution_count": 3,
   "metadata": {
    "ExecuteTime": {
     "end_time": "2021-06-10T04:35:43.656504Z",
     "start_time": "2021-06-10T04:35:43.654245Z"
    }
   },
   "outputs": [],
   "source": [
    "# alpha = cvxopt_solve_qp(P, q, G, h)   "
   ]
  },
  {
   "cell_type": "markdown",
   "metadata": {},
   "source": [
    "#  例子 "
   ]
  },
  {
   "cell_type": "markdown",
   "metadata": {},
   "source": [
    "## data create "
   ]
  },
  {
   "cell_type": "code",
   "execution_count": 4,
   "metadata": {
    "ExecuteTime": {
     "end_time": "2021-06-10T04:35:43.782495Z",
     "start_time": "2021-06-10T04:35:43.659123Z"
    },
    "scrolled": true
   },
   "outputs": [
    {
     "name": "stdout",
     "output_type": "stream",
     "text": [
      "(100, 2)\n"
     ]
    },
    {
     "data": {
      "image/png": "[encoded data removed]",
      "text/plain": [
       "<matplotlib.figure.Figure at 0x7ffb8dc355f8>"
      ]
     },
     "metadata": {
      "needs_background": "light"
     },
     "output_type": "display_data"
    }
   ],
   "source": [
    "\n",
    "X, y = make_moons(n_samples=100, random_state=123)\n",
    "print (X.shape )\n",
    "plt.scatter(X[y==0, 0], X[y==0, 1],color='red', marker='^', alpha=0.5)\n",
    "\n",
    "plt.scatter(X[y==1, 0], X[y==1, 1],color='blue', marker='o', alpha=0.5)\n",
    "\n",
    "plt.tight_layout()\n",
    "\n",
    "plt.show()"
   ]
  },
  {
   "cell_type": "markdown",
   "metadata": {},
   "source": [
    "##  得到 P q G, h \n",
    "\\begin{align*} \n",
    "P &=   2I_p \\\\ \n",
    "q &= b \\\\ \n",
    "G &=  -I_p \\\\ \n",
    "h &=  \\mathbf{0}  \\\\\n",
    "x &=  \\alpha  \\\\ \n",
    "\\end{align*}"
   ]
  },
  {
   "cell_type": "code",
   "execution_count": 7,
   "metadata": {
    "ExecuteTime": {
     "end_time": "2021-06-10T04:36:46.157366Z",
     "start_time": "2021-06-10T04:36:46.152095Z"
    }
   },
   "outputs": [],
   "source": [
    "p=5 # 取前五个 eigen vector \n",
    "P = 2* np.eye(p)\n",
    "G = -1* np.eye(p) \n",
    "h= np.zeros( p )\n"
   ]
  },
  {
   "cell_type": "markdown",
   "metadata": {},
   "source": [
    "##  得到 b :   $b =-(<v_1,y >_{F}^2, ..., <v_p,y >_{F}^2)$"
   ]
  },
  {
   "cell_type": "markdown",
   "metadata": {},
   "source": [
    "###   定义 提取  p 个  kernel eigen vectors "
   ]
  },
  {
   "cell_type": "code",
   "execution_count": 8,
   "metadata": {
    "ExecuteTime": {
     "end_time": "2021-06-10T04:36:49.558561Z",
     "start_time": "2021-06-10T04:36:49.506735Z"
    }
   },
   "outputs": [],
   "source": [
    "def rbf_kernel_eigen_vectors(X, gamma, centered = False ,n_components =3   ):\n",
    "\n",
    "    \"\"\"\n",
    "    RBF kernel return eigen values and vectors    \n",
    "\n",
    "    Parameters\n",
    "    ------------\n",
    "    X: {NumPy ndarray}, shape = [n_examples, n_features]  \n",
    "\n",
    "    gamma: float  \n",
    "\n",
    "        Tuning parameter of the RBF kernel    \n",
    "\n",
    "    n_components: int\n",
    "        Number of  larger eigen\n",
    "\n",
    "    Returns\n",
    "    ------------\n",
    "    X_eigen: {NumPy ndarray}, shape = [n_examples, k_features]\n",
    "\n",
    "        top-k eigen vectors       \n",
    "\n",
    "    \"\"\"\n",
    "    #### 1  K = Kernel matrix \n",
    "\n",
    "    #dist_condensed = pdist(X , lambda u, v: np.exp(  -(((u-v)**2).sum()) / 2*gamma*gamma  ) )\n",
    "    #dist_X  = squareform(dist_condensed) \n",
    "    #pairwise_dists = squareform(pdist(X, 'euclidean'))\n",
    "    #K = np.exp(-pairwise_dists ** 2 / gamma  ** 2)\n",
    "    pairwise_sq_dists = squareform(pdist(X, 'sqeuclidean'))\n",
    "    K = np.exp(-pairwise_sq_dists / gamma **2)\n",
    "    #print ( K.shape   )\n",
    "    #print ( K )\n",
    "    \n",
    "    if centered :\n",
    "        #   zero mean  of the kernel matrix.\n",
    "\n",
    "        N = K.shape[0]\n",
    "        one_n = np.ones((N,N)) / N\n",
    "    \n",
    "        K = K - one_n.dot(K) - K.dot(one_n) + one_n.dot(K).dot(one_n)    \n",
    "    \n",
    "    \n",
    "    # compute eigen vector of K \n",
    "    \n",
    "    eigvals, eigvecs = eigh(K)  \n",
    "    eigvals, eigvecs = eigvals[::-1], eigvecs[:, ::-1]\n",
    "#     sort_vals = True \n",
    "#     if sort_vals:\n",
    "#         idx = eigvals.argsort()[::-1]  \n",
    "#         print ( idx )\n",
    "#         asdf \n",
    "#         eigvals = eigvals[idx]\n",
    "#         eigvecs = eigvecs[:,idx]\n",
    "    #print ( eigvals )\n",
    "    #print (   ( eigvals  ))\n",
    "#     print ( len  ([e   for e in  eigvals if e >0    ]))\n",
    "#     print ( eigvecs.shape )\n",
    "#     print ( np.sum(eigvals > 1e-10) )\n",
    "#     print ( numpy.linalg.matrix_rank(  K  ) )\n",
    "    #n_components =4 \n",
    "    # select top-k , get k*N matrx   W \n",
    "    X_eigen = np.column_stack([eigvecs[:, i]\n",
    "                           for i in range(n_components)])    \n",
    "\n",
    "    #print ( X_eigen.shape )    \n",
    "      \n",
    "    return X_eigen \n",
    "    "
   ]
  },
  {
   "cell_type": "code",
   "execution_count": 9,
   "metadata": {
    "ExecuteTime": {
     "end_time": "2021-06-10T04:36:55.954378Z",
     "start_time": "2021-06-10T04:36:55.942983Z"
    },
    "scrolled": true
   },
   "outputs": [
    {
     "data": {
      "text/plain": [
       "(100, 5)"
      ]
     },
     "execution_count": 9,
     "metadata": {},
     "output_type": "execute_result"
    }
   ],
   "source": [
    "#p= 5  # \n",
    "X_eigen = rbf_kernel_eigen_vectors(X, gamma=15,n_components=p  ) \n",
    "X_eigen.shape  \n"
   ]
  },
  {
   "cell_type": "markdown",
   "metadata": {},
   "source": [
    "### 得到b     $b =-(<v_1,y >_{F}^2, ..., <v_p,y >_{F}^2)= - (y^T*[v_1, ...,v_p])^2$"
   ]
  },
  {
   "cell_type": "code",
   "execution_count": 10,
   "metadata": {
    "ExecuteTime": {
     "end_time": "2021-06-10T04:36:58.311618Z",
     "start_time": "2021-06-10T04:36:58.306601Z"
    }
   },
   "outputs": [
    {
     "data": {
      "text/plain": [
       "(100,)"
      ]
     },
     "execution_count": 10,
     "metadata": {},
     "output_type": "execute_result"
    }
   ],
   "source": [
    "y.shape "
   ]
  },
  {
   "cell_type": "code",
   "execution_count": 11,
   "metadata": {
    "ExecuteTime": {
     "end_time": "2021-06-10T04:37:00.101669Z",
     "start_time": "2021-06-10T04:37:00.097847Z"
    }
   },
   "outputs": [],
   "source": [
    "b= np.matmul(y.reshape(-1,1 ).T, X_eigen)"
   ]
  },
  {
   "cell_type": "code",
   "execution_count": 12,
   "metadata": {
    "ExecuteTime": {
     "end_time": "2021-06-10T04:37:01.230399Z",
     "start_time": "2021-06-10T04:37:01.223323Z"
    }
   },
   "outputs": [
    {
     "data": {
      "text/plain": [
       "array([[2.49997399e+01, 1.06292427e+01, 5.65680116e+00, 2.42510316e-04,\n",
       "        7.82792293e-06]])"
      ]
     },
     "execution_count": 12,
     "metadata": {},
     "output_type": "execute_result"
    }
   ],
   "source": [
    "b = np.matmul(y.reshape(-1,1 ).T,X_eigen)**2 \n",
    "b "
   ]
  },
  {
   "cell_type": "code",
   "execution_count": 13,
   "metadata": {
    "ExecuteTime": {
     "end_time": "2021-06-10T04:37:03.024462Z",
     "start_time": "2021-06-10T04:37:03.018314Z"
    }
   },
   "outputs": [
    {
     "data": {
      "text/plain": [
       "array([[-2.49997399e+01, -1.06292427e+01, -5.65680116e+00,\n",
       "        -2.42510316e-04, -7.82792293e-06]])"
      ]
     },
     "execution_count": 13,
     "metadata": {},
     "output_type": "execute_result"
    }
   ],
   "source": [
    "b= -1*b \n",
    "b "
   ]
  },
  {
   "cell_type": "code",
   "execution_count": 14,
   "metadata": {
    "ExecuteTime": {
     "end_time": "2021-06-10T04:37:04.862655Z",
     "start_time": "2021-06-10T04:37:04.856673Z"
    }
   },
   "outputs": [
    {
     "data": {
      "text/plain": [
       "(5, 1)"
      ]
     },
     "execution_count": 14,
     "metadata": {},
     "output_type": "execute_result"
    }
   ],
   "source": [
    "q = b.reshape(-1,1 )\n",
    "q.shape "
   ]
  },
  {
   "cell_type": "markdown",
   "metadata": {},
   "source": [
    "## 运行 "
   ]
  },
  {
   "cell_type": "code",
   "execution_count": 16,
   "metadata": {
    "ExecuteTime": {
     "end_time": "2021-06-10T04:37:25.259992Z",
     "start_time": "2021-06-10T04:37:25.255105Z"
    }
   },
   "outputs": [
    {
     "name": "stdout",
     "output_type": "stream",
     "text": [
      "(5, 5)\n",
      "(5, 1)\n",
      "(5, 5)\n",
      "(5,)\n"
     ]
    }
   ],
   "source": [
    "for e in [P , q,G, h ]:\n",
    "    print  (e.shape )"
   ]
  },
  {
   "cell_type": "code",
   "execution_count": 15,
   "metadata": {
    "ExecuteTime": {
     "end_time": "2021-06-10T04:37:07.089694Z",
     "start_time": "2021-06-10T04:37:07.081989Z"
    }
   },
   "outputs": [
    {
     "data": {
      "text/plain": [
       "(array([[2., 0., 0., 0., 0.],\n",
       "        [0., 2., 0., 0., 0.],\n",
       "        [0., 0., 2., 0., 0.],\n",
       "        [0., 0., 0., 2., 0.],\n",
       "        [0., 0., 0., 0., 2.]]), array([[-2.49997399e+01],\n",
       "        [-1.06292427e+01],\n",
       "        [-5.65680116e+00],\n",
       "        [-2.42510316e-04],\n",
       "        [-7.82792293e-06]]), array([[-1., -0., -0., -0., -0.],\n",
       "        [-0., -1., -0., -0., -0.],\n",
       "        [-0., -0., -1., -0., -0.],\n",
       "        [-0., -0., -0., -1., -0.],\n",
       "        [-0., -0., -0., -0., -1.]]), array([0., 0., 0., 0., 0.]))"
      ]
     },
     "execution_count": 15,
     "metadata": {},
     "output_type": "execute_result"
    }
   ],
   "source": [
    "P , q,G, h  "
   ]
  },
  {
   "cell_type": "code",
   "execution_count": 18,
   "metadata": {
    "ExecuteTime": {
     "end_time": "2021-06-10T06:48:18.540647Z",
     "start_time": "2021-06-10T06:48:18.526326Z"
    }
   },
   "outputs": [
    {
     "name": "stdout",
     "output_type": "stream",
     "text": [
      "[<5x5 matrix, tc='d'>, <5x1 matrix, tc='d'>, <5x5 matrix, tc='d'>, <5x1 matrix, tc='d'>]\n",
      "     pcost       dcost       gap    pres   dres\n",
      " 0: -1.7110e+02 -2.1400e+02  4e+01  0e+00  8e-01\n",
      " 1: -1.9204e+02 -1.9629e+02  4e+00  2e-15  8e-02\n",
      " 2: -1.9249e+02 -1.9255e+02  6e-02  2e-15  7e-04\n",
      " 3: -1.9249e+02 -1.9249e+02  6e-04  2e-15  7e-06\n",
      " 4: -1.9249e+02 -1.9249e+02  9e-06  4e-15  7e-08\n",
      "Optimal solution found.\n"
     ]
    },
    {
     "data": {
      "text/plain": [
       "array([1.24998696e+01, 5.31462106e+00, 2.82840032e+00, 9.27998435e-04,\n",
       "       8.64969295e-04])"
      ]
     },
     "execution_count": 18,
     "metadata": {},
     "output_type": "execute_result"
    }
   ],
   "source": [
    "# alpha = cvxopt_solve_qp(P, q, G, h)   \n",
    "alpha_result = cvxopt_solve_qp(P, q, G, h)   \n",
    "alpha_result"
   ]
  },
  {
   "cell_type": "markdown",
   "metadata": {},
   "source": [
    "# 得到Kernel  "
   ]
  },
  {
   "cell_type": "code",
   "execution_count": 37,
   "metadata": {
    "ExecuteTime": {
     "end_time": "2021-06-10T07:01:19.614555Z",
     "start_time": "2021-06-10T07:01:19.609286Z"
    }
   },
   "outputs": [
    {
     "data": {
      "text/plain": [
       "((100, 5), (5,))"
      ]
     },
     "execution_count": 37,
     "metadata": {},
     "output_type": "execute_result"
    }
   ],
   "source": [
    "X_eigen.shape  , alpha_result.shape  "
   ]
  },
  {
   "cell_type": "code",
   "execution_count": 43,
   "metadata": {
    "ExecuteTime": {
     "end_time": "2021-06-10T07:05:24.442311Z",
     "start_time": "2021-06-10T07:05:24.437701Z"
    }
   },
   "outputs": [],
   "source": [
    "kernel_list =  [np.outer( X_eigen[:,i], X_eigen[:,i] ) for i in range(p  )] "
   ]
  },
  {
   "cell_type": "code",
   "execution_count": 40,
   "metadata": {
    "ExecuteTime": {
     "end_time": "2021-06-10T07:03:39.527484Z",
     "start_time": "2021-06-10T07:03:39.525089Z"
    },
    "scrolled": true
   },
   "outputs": [],
   "source": [
    "#X_eigen*(alpha_result.reshape(-1,1 ))  \n",
    "#np.matmul(X_eigen, alpha_result.reshape(-1,1 )) "
   ]
  },
  {
   "cell_type": "code",
   "execution_count": 46,
   "metadata": {
    "ExecuteTime": {
     "end_time": "2021-06-10T07:06:17.534427Z",
     "start_time": "2021-06-10T07:06:17.526750Z"
    }
   },
   "outputs": [
    {
     "data": {
      "text/plain": [
       "array([[0.14963482, 0.10054673, 0.12885322, ..., 0.15371032, 0.16395768,\n",
       "        0.09740576],\n",
       "       [0.10054673, 0.19533243, 0.18517619, ..., 0.06232447, 0.13850402,\n",
       "        0.18591372],\n",
       "       [0.12885322, 0.18517619, 0.21988225, ..., 0.07954137, 0.2119987 ,\n",
       "        0.16558089],\n",
       "       ...,\n",
       "       [0.15371032, 0.06232447, 0.07954137, ..., 0.18477015, 0.12769719,\n",
       "        0.06870884],\n",
       "       [0.16395768, 0.13850402, 0.2119987 , ..., 0.12769719, 0.25891092,\n",
       "        0.11667637],\n",
       "       [0.09740576, 0.18591372, 0.16558089, ..., 0.06870884, 0.11667637,\n",
       "        0.18083406]])"
      ]
     },
     "execution_count": 46,
     "metadata": {},
     "output_type": "execute_result"
    }
   ],
   "source": [
    "kernel_final= np.array(  sum ([ w*v for w,v in zip( alpha_result ,  kernel_list  )]))\n",
    "kernel_final "
   ]
  },
  {
   "cell_type": "code",
   "execution_count": null,
   "metadata": {},
   "outputs": [],
   "source": []
  }
 ],
 "metadata": {
  "kernelspec": {
   "display_name": "Python 3",
   "language": "python",
   "name": "python3"
  },
  "language_info": {
   "codemirror_mode": {
    "name": "ipython",
    "version": 3
   },
   "file_extension": ".py",
   "mimetype": "text/x-python",
   "name": "python",
   "nbconvert_exporter": "python",
   "pygments_lexer": "ipython3",
   "version": "3.6.8"
  },
  "toc": {
   "base_numbering": 1,
   "nav_menu": {},
   "number_sections": true,
   "sideBar": true,
   "skip_h1_title": false,
   "title_cell": "Table of Contents",
   "title_sidebar": "Contents",
   "toc_cell": false,
   "toc_position": {},
   "toc_section_display": true,
   "toc_window_display": true
  }
 },
 "nbformat": 4,
 "nbformat_minor": 2
}

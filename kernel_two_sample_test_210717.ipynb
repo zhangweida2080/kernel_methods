{
 "cells": [
  {
   "cell_type": "markdown",
   "metadata": {},
   "source": [
    "# import "
   ]
  },
  {
   "cell_type": "code",
   "execution_count": 7,
   "metadata": {
    "ExecuteTime": {
     "end_time": "2021-07-17T13:10:27.082243Z",
     "start_time": "2021-07-17T13:10:27.071656Z"
    }
   },
   "outputs": [],
   "source": [
    "from __future__ import division\n",
    "\n",
    "from scipy.spatial.distance import pdist, squareform\n",
    "\n",
    "from numpy import linalg as LA\n",
    "\n",
    "from scipy.linalg import eigh, eig \n",
    "\n",
    "import numpy as np \n",
    "import numpy \n",
    "from sklearn.datasets import make_moons\n",
    "from matplotlib import pyplot as plt \n",
    "from cvxopt import matrix \n",
    "import cvxopt \n",
    "import numpy \n",
    "import numpy as np\n",
    "from sys import stdout\n",
    "from sklearn.metrics import pairwise_kernels\n",
    "import matplotlib.pyplot as plt\n",
    "from sklearn.metrics import pairwise_distances\n",
    "%matplotlib inline "
   ]
  },
  {
   "cell_type": "markdown",
   "metadata": {},
   "source": [
    "# 参考 https://github.com/emanuele/kernel_two_sample_test/blob/master/kernel_two_sample_test.py "
   ]
  },
  {
   "cell_type": "markdown",
   "metadata": {
    "ExecuteTime": {
     "end_time": "2021-07-17T14:27:37.427058Z",
     "start_time": "2021-07-17T14:27:37.417148Z"
    }
   },
   "source": [
    "1. 实现MMD统计量的计算，数据与核函数自选\n",
    "2. 实现基于MMD的假设检验过程"
   ]
  },
  {
   "cell_type": "code",
   "execution_count": null,
   "metadata": {},
   "outputs": [],
   "source": []
  },
  {
   "cell_type": "markdown",
   "metadata": {},
   "source": [
    "##  定义函数  "
   ]
  },
  {
   "cell_type": "markdown",
   "metadata": {
    "ExecuteTime": {
     "end_time": "2021-07-17T14:28:08.465668Z",
     "start_time": "2021-07-17T14:28:08.460865Z"
    }
   },
   "source": [
    "unbiased MMD统计量的计算"
   ]
  },
  {
   "cell_type": "code",
   "execution_count": 4,
   "metadata": {
    "ExecuteTime": {
     "end_time": "2021-07-17T13:09:33.558084Z",
     "start_time": "2021-07-17T13:09:33.553072Z"
    }
   },
   "outputs": [],
   "source": [
    "def MMD2u(K, m, n):\n",
    "    \"\"\"The MMD^2_u unbiased statistic.\n",
    "    \"\"\"\n",
    "    Kx = K[:m, :m]\n",
    "    Ky = K[m:, m:]\n",
    "    Kxy = K[:m, m:]\n",
    "    return 1.0 / (m * (m - 1.0)) * (Kx.sum() - Kx.diagonal().sum()) + \\\n",
    "        1.0 / (n * (n - 1.0)) * (Ky.sum() - Ky.diagonal().sum()) - \\\n",
    "        2.0 / (m * n) * Kxy.sum()\n"
   ]
  },
  {
   "cell_type": "code",
   "execution_count": 5,
   "metadata": {
    "ExecuteTime": {
     "end_time": "2021-07-17T13:09:44.687150Z",
     "start_time": "2021-07-17T13:09:44.678266Z"
    }
   },
   "outputs": [],
   "source": [
    "def compute_null_distribution(K, m, n, iterations=10000, verbose=False,\n",
    "                              random_state=None, marker_interval=1000):\n",
    "    \"\"\"Compute the bootstrap null-distribution of MMD2u.\n",
    "    \"\"\"\n",
    "    if type(random_state) == type(np.random.RandomState()):\n",
    "        rng = random_state\n",
    "    else:\n",
    "        rng = np.random.RandomState(random_state)\n",
    "\n",
    "    mmd2u_null = np.zeros(iterations)\n",
    "    for i in range(iterations):\n",
    "        if verbose and (i % marker_interval) == 0:\n",
    "            print(i),\n",
    "            stdout.flush()\n",
    "        idx = rng.permutation(m+n)\n",
    "        K_i = K[idx, idx[:, None]]\n",
    "        mmd2u_null[i] = MMD2u(K_i, m, n)\n",
    "\n",
    "    if verbose:\n",
    "        print(\"\")\n",
    "\n",
    "    return mmd2u_null\n"
   ]
  },
  {
   "cell_type": "code",
   "execution_count": 6,
   "metadata": {
    "ExecuteTime": {
     "end_time": "2021-07-17T13:10:14.950035Z",
     "start_time": "2021-07-17T13:10:14.941696Z"
    }
   },
   "outputs": [],
   "source": [
    "def kernel_two_sample_test(X, Y, kernel_function='rbf', iterations=10000,\n",
    "                           verbose=False, random_state=None, **kwargs):\n",
    "    \"\"\"Compute MMD^2_u, its null distribution and the p-value of the\n",
    "    kernel two-sample test.\n",
    "    Note that extra parameters captured by **kwargs will be passed to\n",
    "    pairwise_kernels() as kernel parameters. E.g. if\n",
    "    kernel_two_sample_test(..., kernel_function='rbf', gamma=0.1),\n",
    "    then this will result in getting the kernel through\n",
    "    kernel_function(metric='rbf', gamma=0.1).\n",
    "    \"\"\"\n",
    "    m = len(X)\n",
    "    n = len(Y)\n",
    "    XY = np.vstack([X, Y])\n",
    "    K = pairwise_kernels(XY, metric=kernel_function, **kwargs)\n",
    "    mmd2u = MMD2u(K, m, n)\n",
    "    if verbose:\n",
    "        print(\"MMD^2_u = %s\" % mmd2u)\n",
    "        print(\"Computing the null distribution.\")\n",
    "\n",
    "    mmd2u_null = compute_null_distribution(K, m, n, iterations,\n",
    "                                           verbose=verbose,\n",
    "                                           random_state=random_state)\n",
    "    p_value = max(1.0/iterations, (mmd2u_null > mmd2u).sum() /\n",
    "                  float(iterations))\n",
    "    if verbose:\n",
    "        print(\"p-value ~= %s \\t (resolution : %s)\" % (p_value, 1.0/iterations))\n",
    "\n",
    "    return mmd2u, mmd2u_null, p_value"
   ]
  },
  {
   "cell_type": "markdown",
   "metadata": {
    "ExecuteTime": {
     "end_time": "2021-07-17T13:10:44.571159Z",
     "start_time": "2021-07-17T13:10:44.568436Z"
    }
   },
   "source": [
    "\n",
    "## 跑code on two Gaussians (8.1 )\n",
    " "
   ]
  },
  {
   "cell_type": "markdown",
   "metadata": {},
   "source": [
    "### 定义样本 X Y 和分布 p, q "
   ]
  },
  {
   "cell_type": "markdown",
   "metadata": {
    "ExecuteTime": {
     "end_time": "2021-07-17T13:15:14.305275Z",
     "start_time": "2021-07-17T13:15:14.301106Z"
    }
   },
   "source": [
    " \n",
    "两样本检测问题: 给定两个未知分布 p 和 q抽取的样本, 评估p,q是否相同。样本分别为 $X=\\{x_1, ..., x_m\\}, Y=\\{y_1, ..., y_n\\}$\n",
    "\n",
    "这个例子：假设p,q 都是高斯分布。 采用bootstrap统计 \n"
   ]
  },
  {
   "cell_type": "code",
   "execution_count": 11,
   "metadata": {
    "ExecuteTime": {
     "end_time": "2021-07-17T13:22:58.855411Z",
     "start_time": "2021-07-17T13:22:58.850828Z"
    }
   },
   "outputs": [],
   "source": [
    "np.random.seed(0) \n",
    "m = 250 # 样本数  p \n",
    "n = 250 # 样本数 q\n",
    "d = 2  #  dim"
   ]
  },
  {
   "cell_type": "markdown",
   "metadata": {
    "ExecuteTime": {
     "end_time": "2021-07-17T13:24:30.458048Z",
     "start_time": "2021-07-17T13:24:30.453671Z"
    }
   },
   "source": [
    "假设p,q两个高斯分布的均值不同，协方差相同"
   ]
  },
  {
   "cell_type": "code",
   "execution_count": 13,
   "metadata": {
    "ExecuteTime": {
     "end_time": "2021-07-17T13:24:40.839106Z",
     "start_time": "2021-07-17T13:24:40.835532Z"
    }
   },
   "outputs": [],
   "source": [
    "sigma2X = np.eye(d)\n",
    "muX = np.zeros(d)\n",
    "\n",
    "sigma2Y = np.eye(d)\n",
    "muY = np.ones(d)\n",
    "#    muY = np.zeros(d)"
   ]
  },
  {
   "cell_type": "code",
   "execution_count": 17,
   "metadata": {
    "ExecuteTime": {
     "end_time": "2021-07-17T13:25:24.317456Z",
     "start_time": "2021-07-17T13:25:24.306362Z"
    },
    "scrolled": true
   },
   "outputs": [
    {
     "name": "stdout",
     "output_type": "stream",
     "text": [
      "(250, 2)\n",
      "(250, 2)\n"
     ]
    },
    {
     "data": {
      "text/plain": [
       "(None, None)"
      ]
     },
     "execution_count": 17,
     "metadata": {},
     "output_type": "execute_result"
    }
   ],
   "source": [
    "X = np.random.multivariate_normal(mean=muX, cov=sigma2X, size=m)\n",
    "Y = np.random.multivariate_normal(mean=muY, cov=sigma2Y, size=n)\n",
    "print (X.shape) , print(Y.shape)"
   ]
  },
  {
   "cell_type": "markdown",
   "metadata": {},
   "source": [
    "### 画图 samples X Y "
   ]
  },
  {
   "cell_type": "code",
   "execution_count": 18,
   "metadata": {
    "ExecuteTime": {
     "end_time": "2021-07-17T13:25:43.345809Z",
     "start_time": "2021-07-17T13:25:43.188132Z"
    }
   },
   "outputs": [
    {
     "data": {
      "text/plain": [
       "[<matplotlib.lines.Line2D at 0x7fd427424198>]"
      ]
     },
     "execution_count": 18,
     "metadata": {},
     "output_type": "execute_result"
    },
    {
     "data": {
      "image/png": "[encoded data removed]",
      "text/plain": [
       "<matplotlib.figure.Figure at 0x7fd4273fbef0>"
      ]
     },
     "metadata": {
      "needs_background": "light"
     },
     "output_type": "display_data"
    }
   ],
   "source": [
    "plt.figure()\n",
    "plt.plot(X[:, 0], X[:, 1], 'bo')\n",
    "plt.plot(Y[:, 0], Y[:, 1], 'rx')\n",
    "        #plt.show()"
   ]
  },
  {
   "cell_type": "code",
   "execution_count": 19,
   "metadata": {
    "ExecuteTime": {
     "end_time": "2021-07-17T13:27:37.636218Z",
     "start_time": "2021-07-17T13:27:37.622565Z"
    }
   },
   "outputs": [
    {
     "name": "stdout",
     "output_type": "stream",
     "text": [
      "4.077820723559476\n"
     ]
    }
   ],
   "source": [
    "sigma2 = np.median(pairwise_distances(X, Y, metric='euclidean'))**2\n",
    "print(sigma2)"
   ]
  },
  {
   "cell_type": "code",
   "execution_count": 20,
   "metadata": {
    "ExecuteTime": {
     "end_time": "2021-07-17T13:28:43.039470Z",
     "start_time": "2021-07-17T13:28:43.036159Z"
    }
   },
   "outputs": [],
   "source": [
    "kernel_function='rbf' # kernel 用 gaussian "
   ]
  },
  {
   "cell_type": "markdown",
   "metadata": {},
   "source": [
    "### 计算 MMD  用无偏估计 "
   ]
  },
  {
   "cell_type": "markdown",
   "metadata": {},
   "source": [
    "\\begin{equation}\n",
    "\\begin{aligned}\n",
    "\\mathcal{M M D}_u\\left(\\mathbf{X} , \\mathbf{Y}\\right) &=\\left(\\frac{1}{m\\left(m-1\\right)} \\sum_{i=1}^{m} \\sum_{j=1,j\\ne i}^{m} k\\left(\\mathbf{x}_{i}, \\mathbf{x}_{j}\\right)+\\frac{1}{n\\left(n-1\\right)} \\sum_{i=1}^{n} \\sum_{j=1,j \\ne i }^{n} k\\left(\\mathbf{y}_{i}, \\mathbf{y}_{j}\\right)\\right.\\\\\n",
    "&\\left.-\\frac{2}{mn} \\sum_{i=1}^{m} \\sum_{j=1}^{n} k\\left(\\mathbf{x}_{i}, \\mathbf{y}_{j} \\right)\\right)^{\\frac{1}{2}}\n",
    "\\end{aligned}\n",
    "\\end{equation}"
   ]
  },
  {
   "cell_type": "code",
   "execution_count": 44,
   "metadata": {
    "ExecuteTime": {
     "end_time": "2021-07-17T13:41:15.099810Z",
     "start_time": "2021-07-17T13:41:15.087103Z"
    }
   },
   "outputs": [
    {
     "data": {
      "text/plain": [
       "0.2147558149807104"
      ]
     },
     "execution_count": 44,
     "metadata": {},
     "output_type": "execute_result"
    }
   ],
   "source": [
    "XY = np.vstack([X, Y])\n",
    "K = pairwise_kernels(XY, metric=kernel_function, gamma=1.0/sigma2)\n",
    "#print ( K.shape  )\n",
    "      \n",
    "mmd2u = MMD2u(K, m, n) # 公式(3 )\n",
    "mmd2u \n"
   ]
  },
  {
   "cell_type": "markdown",
   "metadata": {},
   "source": [
    "### 这里需要用到 Bootstrap Hypothesis Testing"
   ]
  },
  {
   "cell_type": "markdown",
   "metadata": {},
   "source": [
    "零假设 必须含有等号， 这里，零假设 null hypothesis 假设两个分布相同. \n",
    "\n",
    "计算p-vlaue, 也就是在零假设**成立**的条件下, 出现 现状 或 更差 的情况的概率。  "
   ]
  },
  {
   "cell_type": "code",
   "execution_count": 45,
   "metadata": {
    "ExecuteTime": {
     "end_time": "2021-07-17T13:41:22.784212Z",
     "start_time": "2021-07-17T13:41:22.780243Z"
    }
   },
   "outputs": [],
   "source": [
    "iterations = 10000  # bootstrap的重复抽样次数 "
   ]
  },
  {
   "cell_type": "markdown",
   "metadata": {},
   "source": [
    "Bootstrap Hypothesis Testing for two sample problem"
   ]
  },
  {
   "cell_type": "markdown",
   "metadata": {},
   "source": [
    "步骤 ：     \n",
    "    \n",
    "1. 从$Z= X\\cup Y $ 中有放回抽取$n+m$个样本\n",
    "2. 把top $m$个样本当成\"新\"的$X^*$, 后 $n$个样本当成\"新\"的$Y^*$, 组成新的 $Z^*$\n",
    "3.  在$Z^*$计算 $t(Z^* )$ (这里是$MMD$) \n",
    "4.  重复 1-3 $B$ 次 (一般$10000$), 并记录每次的t \n",
    "    \n",
    "最后近似 $ASL$(Achieved significance level):\n",
    " \n",
    " \\begin{equation}\n",
    "    \\widehat{ASL}=\\#\\{ t(Z^*) \\ge t(Z) \\}/B\n",
    "\\end{equation}\n",
    "\n",
    "$\\#$ 意为有多少个违反 零假设的证据出现"
   ]
  },
  {
   "cell_type": "code",
   "execution_count": 40,
   "metadata": {
    "ExecuteTime": {
     "end_time": "2021-07-17T13:37:34.043895Z",
     "start_time": "2021-07-17T13:37:19.372401Z"
    }
   },
   "outputs": [
    {
     "name": "stdout",
     "output_type": "stream",
     "text": [
      "0\n",
      "1000\n",
      "2000\n",
      "3000\n",
      "4000\n",
      "5000\n",
      "6000\n",
      "7000\n",
      "8000\n",
      "9000\n",
      "\n"
     ]
    },
    {
     "data": {
      "text/plain": [
       "10000"
      ]
     },
     "execution_count": 40,
     "metadata": {},
     "output_type": "execute_result"
    }
   ],
   "source": [
    "mmd2u_null = compute_null_distribution(K, m, n, iterations,\n",
    "                                           verbose=True ,) \n",
    "                                            \n",
    "\n",
    "len (mmd2u_null)"
   ]
  },
  {
   "cell_type": "markdown",
   "metadata": {},
   "source": [
    "### 计算p-value "
   ]
  },
  {
   "cell_type": "code",
   "execution_count": 41,
   "metadata": {
    "ExecuteTime": {
     "end_time": "2021-07-17T13:37:41.266433Z",
     "start_time": "2021-07-17T13:37:41.261780Z"
    }
   },
   "outputs": [
    {
     "name": "stdout",
     "output_type": "stream",
     "text": [
      "p_value is  0.0001\n",
      "p-value ~= 0.0001 \t (resolution : 0.0001)\n"
     ]
    }
   ],
   "source": [
    "#print(\"mmd2u_null is \", mmd2u_null)\n",
    "#x1 = ( mmd2u_null > mmd2u).sum() #  \n",
    "#print ( \"x1: \",x1)\n",
    "     \n",
    "p_value = max(1.0/iterations, (mmd2u_null > mmd2u).sum() /\n",
    "                  float(iterations))\n",
    "print(\"p_value is \", p_value)\n",
    "     \n",
    "#if verbose:\n",
    "print(\"p-value ~= %s \\t (resolution : %s)\" % (p_value, 1.0/iterations))\n"
   ]
  },
  {
   "cell_type": "code",
   "execution_count": 42,
   "metadata": {
    "ExecuteTime": {
     "end_time": "2021-07-17T13:37:43.295829Z",
     "start_time": "2021-07-17T13:37:42.994948Z"
    }
   },
   "outputs": [
    {
     "data": {
      "text/plain": [
       "Text(0.5,1,'$MMD^2_u$: null-distribution and observed value. $p$-value=0.0001')"
      ]
     },
     "execution_count": 42,
     "metadata": {},
     "output_type": "execute_result"
    },
    {
     "data": {
      "image/png": "[encoded data removed]",
      "text/plain": [
       "<matplotlib.figure.Figure at 0x7fd428975c18>"
      ]
     },
     "metadata": {
      "needs_background": "light"
     },
     "output_type": "display_data"
    }
   ],
   "source": [
    "plt.figure(figsize=(18, 6))\n",
    "prob, bins, patches = plt.hist(mmd2u_null, bins=50, normed=True)\n",
    "plt.plot(mmd2u, prob.max()/30, 'w*', markersize=24, markeredgecolor='k',\n",
    "             markeredgewidth=2, label=\"$MMD^2_u = %s$\" % mmd2u)\n",
    "plt.xlabel('$MMD^2_u$')\n",
    "plt.ylabel('$p(MMD^2_u)$')\n",
    "plt.legend(numpoints=1)\n",
    "plt.title('$MMD^2_u$: null-distribution and observed value. $p$-value=%s'\n",
    "              % p_value)"
   ]
  },
  {
   "cell_type": "markdown",
   "metadata": {
    "ExecuteTime": {
     "end_time": "2021-07-17T14:29:09.598312Z",
     "start_time": "2021-07-17T14:29:09.592882Z"
    }
   },
   "source": [
    "在零假设$H_0:p=q$**成立**的条件下,  根据观察样本的计算出的p-value 很小。 意味着违背零假设的小概率事件发生了，可以拒绝零假设，接受备择假设: $H_1: p \\ne q$"
   ]
  },
  {
   "cell_type": "code",
   "execution_count": null,
   "metadata": {},
   "outputs": [],
   "source": []
  },
  {
   "cell_type": "markdown",
   "metadata": {},
   "source": [
    "## 其他情况"
   ]
  },
  {
   "cell_type": "markdown",
   "metadata": {
    "ExecuteTime": {
     "end_time": "2021-07-17T14:35:37.575854Z",
     "start_time": "2021-07-17T14:35:37.573550Z"
    }
   },
   "source": [
    "### 这里p，q 为相同分布 "
   ]
  },
  {
   "cell_type": "code",
   "execution_count": 54,
   "metadata": {
    "ExecuteTime": {
     "end_time": "2021-07-17T14:35:56.221488Z",
     "start_time": "2021-07-17T14:35:41.234368Z"
    }
   },
   "outputs": [
    {
     "name": "stdout",
     "output_type": "stream",
     "text": [
      "w\n",
      "(250, 2)\n",
      "(250, 2)\n",
      "2.7140142788722335\n",
      "MMD^2_u = -0.0020956120146516932\n",
      "Computing the null distribution.\n",
      "0\n",
      "1000\n",
      "2000\n",
      "3000\n",
      "4000\n",
      "5000\n",
      "6000\n",
      "7000\n",
      "8000\n",
      "9000\n",
      "\n",
      "p-value ~= 0.7843 \t (resolution : 0.0001)\n"
     ]
    },
    {
     "data": {
      "image/png": "[encoded data removed]",
      "text/plain": [
       "<matplotlib.figure.Figure at 0x7fd429218ef0>"
      ]
     },
     "metadata": {
      "needs_background": "light"
     },
     "output_type": "display_data"
    },
    {
     "data": {
      "image/png": "[encoded data removed]",
      "text/plain": [
       "<matplotlib.figure.Figure at 0x7fd428478cf8>"
      ]
     },
     "metadata": {
      "needs_background": "light"
     },
     "output_type": "display_data"
    }
   ],
   "source": [
    "main_test_different_setting ( )"
   ]
  },
  {
   "cell_type": "code",
   "execution_count": 51,
   "metadata": {
    "ExecuteTime": {
     "end_time": "2021-07-17T14:34:46.290390Z",
     "start_time": "2021-07-17T14:34:46.279796Z"
    }
   },
   "outputs": [],
   "source": [
    "def main_test_different_setting( ): \n",
    "    import matplotlib.pyplot as plt\n",
    "    from sklearn.metrics import pairwise_distances\n",
    "\n",
    "    np.random.seed(0)\n",
    "    print ( \"w\" )\n",
    "     \n",
    "    m = 20\n",
    "    n = 20\n",
    "    d = 2\n",
    "\n",
    "    m = 250\n",
    "    n = 250\n",
    "\n",
    "    sigma2X = np.eye(d)\n",
    "    muX = np.zeros(d)\n",
    "\n",
    "    sigma2Y = np.eye(d)\n",
    "    #muY = np.ones(d)\n",
    "    muY = np.zeros(d)\n",
    "\n",
    "    #iterations = 10000\n",
    "    iterations = 10000\n",
    "      \n",
    "    X = np.random.multivariate_normal(mean=muX, cov=sigma2X, size=m)\n",
    "    Y = np.random.multivariate_normal(mean=muY, cov=sigma2Y, size=n)\n",
    "    print (X.shape) \n",
    "    print(Y.shape)\n",
    "\n",
    "     \n",
    "    if d == 2:\n",
    "        plt.figure()\n",
    "        plt.plot(X[:, 0], X[:, 1], 'bo')\n",
    "        plt.plot(Y[:, 0], Y[:, 1], 'rx')\n",
    "        #plt.show()\n",
    "      \n",
    "\n",
    "    sigma2 = np.median(pairwise_distances(X, Y, metric='euclidean'))**2\n",
    "    print(sigma2)\n",
    "      \n",
    "    mmd2u, mmd2u_null, p_value = kernel_two_sample_test(X, Y,\n",
    "                                                        kernel_function='rbf',\n",
    "                                                        gamma=1.0/sigma2,\n",
    "                                                        iterations=iterations,\n",
    "                                                        verbose=True)\n",
    "    # mmd2u, mmd2u_null, p_value = kernel_two_sample_test(X, Y,\n",
    "    #                                                     kernel_function='linear',\n",
    "    #                                                     verbose=True)\n",
    "\n",
    "    plt.figure()\n",
    "    prob, bins, patches = plt.hist(mmd2u_null, bins=50, normed=True)\n",
    "    plt.plot(mmd2u, prob.max()/30, 'w*', markersize=24, markeredgecolor='k',\n",
    "             markeredgewidth=2, label=\"$MMD^2_u = %s$\" % mmd2u)\n",
    "    plt.xlabel('$MMD^2_u$')\n",
    "    plt.ylabel('$p(MMD^2_u)$')\n",
    "    plt.legend(numpoints=1)\n",
    "    plt.title('$MMD^2_u$: null-distribution and observed value. $p$-value=%s'\n",
    "              % p_value)\n",
    "    plt.show()\n",
    "\n",
    "\n"
   ]
  },
  {
   "cell_type": "code",
   "execution_count": null,
   "metadata": {},
   "outputs": [],
   "source": []
  }
 ],
 "metadata": {
  "kernelspec": {
   "display_name": "Python 3",
   "language": "python",
   "name": "python3"
  },
  "language_info": {
   "codemirror_mode": {
    "name": "ipython",
    "version": 3
   },
   "file_extension": ".py",
   "mimetype": "text/x-python",
   "name": "python",
   "nbconvert_exporter": "python",
   "pygments_lexer": "ipython3",
   "version": "3.6.8"
  },
  "toc": {
   "base_numbering": 1,
   "nav_menu": {},
   "number_sections": true,
   "sideBar": true,
   "skip_h1_title": false,
   "title_cell": "Table of Contents",
   "title_sidebar": "Contents",
   "toc_cell": false,
   "toc_position": {},
   "toc_section_display": true,
   "toc_window_display": true
  }
 },
 "nbformat": 4,
 "nbformat_minor": 2
}

{
 "cells": [
  {
   "cell_type": "markdown",
   "metadata": {},
   "source": [
    "# import "
   ]
  },
  {
   "cell_type": "code",
   "execution_count": 1,
   "metadata": {
    "ExecuteTime": {
     "end_time": "2021-05-12T07:06:40.815294Z",
     "start_time": "2021-05-12T07:06:40.297033Z"
    }
   },
   "outputs": [],
   "source": [
    "import numpy as np  \n",
    "import sklearn \n",
    "import math\n",
    "import numpy as np\n",
    "import matplotlib.pyplot as plt\n"
   ]
  },
  {
   "cell_type": "code",
   "execution_count": null,
   "metadata": {},
   "outputs": [],
   "source": [
    "# import "
   ]
  },
  {
   "cell_type": "code",
   "execution_count": 3,
   "metadata": {
    "ExecuteTime": {
     "end_time": "2021-05-12T07:05:35.308830Z",
     "start_time": "2021-05-12T07:05:35.299786Z"
    }
   },
   "outputs": [],
   "source": [
    "\n",
    "\n",
    "def target_function(x):\n",
    "    return -5 + 20 * x - 16 * x ** 2\n",
    "\n",
    "\n",
    "def gene_dataset():\n",
    "    dataset_size = 30\n",
    "    np.random.seed(2021)\n",
    "    data_x = np.random.uniform(0, 1, dataset_size)\n",
    "    data_epsilon = np.random.normal(0, 1, dataset_size)\n",
    "    data_y = target_function(data_x) + data_epsilon * 2 / 5\n",
    "    return data_x, data_y\n"
   ]
  },
  {
   "cell_type": "code",
   "execution_count": 6,
   "metadata": {
    "ExecuteTime": {
     "end_time": "2021-05-12T07:05:53.016799Z",
     "start_time": "2021-05-12T07:05:52.809999Z"
    },
    "scrolled": false
   },
   "outputs": [
    {
     "data": {
      "image/png": "[encoded data removed]",
      "text/plain": [
       "<matplotlib.figure.Figure at 0x7f891a978c18>"
      ]
     },
     "metadata": {
      "needs_background": "light"
     },
     "output_type": "display_data"
    }
   ],
   "source": [
    "class KernelRidge:\n",
    "    def __init__(self, x, y, lam, kernel_function):\n",
    "        self.x, self.kernel_function = x, kernel_function\n",
    "        \n",
    "        y_t = np.mat(y) # (1,N )\n",
    "        #print ( \"y_t \", y_t.shape )\n",
    "          \n",
    "        dataset_size = len(x)\n",
    "        lam_i = lam * np.mat(np.identity(dataset_size))# (N,N)\n",
    "        #print ( \"lam_i \", lam_i.shape )\n",
    "        #print (lam_i   )\n",
    "          \n",
    "        k = np.mat(np.zeros((dataset_size, dataset_size))) # K=(N,N)\n",
    "        for i in range(0, dataset_size):\n",
    "            for j in range(0, dataset_size):\n",
    "                k[i, j] = kernel_function(x[i], x[j])\n",
    "\n",
    "        self.coefficient_vec = 2 * y_t * np.linalg.inv(lam_i + 2 * k)\n",
    "        #print ( \"self.coefficient_vec \", self.coefficient_vec.shape ) # (1,30 )\n",
    "          \n",
    "    def predict(self, x):\n",
    "        prediction_y = np.zeros(len(x)) \n",
    "        #print ( x.shape  )\n",
    "          \n",
    "        for i in range(0, len(x)):\n",
    "            #print ( i )\n",
    "              \n",
    "            kappa = np.mat(np.zeros(len(self.x))).T # (N,1 ) [k(x1,x),k(x2,x),...,k(xN,x)]\n",
    "            #print ( \"kappa \",kappa.shape ,len(self.x)  )\n",
    "              \n",
    "            for j in range(0, len(self.x)):\n",
    "                #print ( self.x[j]  )\n",
    "                #print ( x[i]) \n",
    "                #adfasdf  \n",
    "                kappa[j, 0] = self.kernel_function(self.x[j], x[i])\n",
    "            prediction_y[i] = self.coefficient_vec * kappa\n",
    "        return prediction_y\n",
    "\n",
    "def kernel0(x, y):\n",
    "    return 1 + x * y\n",
    "\n",
    "\n",
    "def kernel1(x, y):\n",
    "    return (1 + x * y) ** 2\n",
    "\n",
    "\n",
    "def kernel2(x, y):\n",
    "    return (1 + x * y) ** 9\n",
    "\n",
    "\n",
    "def kernel3(x, y):\n",
    "    return min(x, y)\n",
    "\n",
    "def kernel4(x, y):\n",
    "    return math.exp(-(x - y) ** 2)\n",
    "\n",
    "def main():\n",
    "    x, y = gene_dataset()\n",
    "    \n",
    "    kernel_ridge = KernelRidge(x, y, 0.01, kernel4)\n",
    "\n",
    "    x_prediction = np.linspace(0, 1, 100)\n",
    "    \n",
    "    y_prediction = kernel_ridge.predict(x_prediction)\n",
    "\n",
    "    plt.scatter(x, y)\n",
    "    plt.plot(x_prediction, y_prediction, 'g')\n",
    "    plt.plot(x_prediction, target_function(x_prediction), 'r')\n",
    "    plt.show()\n",
    "main(  )"
   ]
  },
  {
   "cell_type": "code",
   "execution_count": 21,
   "metadata": {
    "ExecuteTime": {
     "end_time": "2021-04-30T12:42:19.068800Z",
     "start_time": "2021-04-30T12:42:18.969507Z"
    }
   },
   "outputs": [
    {
     "data": {
      "image/png": "[encoded data removed]",
      "text/plain": [
       "<matplotlib.figure.Figure at 0x7fcf7ad132b0>"
      ]
     },
     "metadata": {
      "needs_background": "light"
     },
     "output_type": "display_data"
    }
   ],
   "source": []
  },
  {
   "cell_type": "code",
   "execution_count": 7,
   "metadata": {
    "ExecuteTime": {
     "end_time": "2021-05-12T07:05:56.758130Z",
     "start_time": "2021-05-12T07:05:56.754106Z"
    },
    "scrolled": true
   },
   "outputs": [],
   "source": [
    "x, y = gene_dataset()"
   ]
  }
 ],
 "metadata": {
  "kernelspec": {
   "display_name": "Python 3",
   "language": "python",
   "name": "python3"
  },
  "language_info": {
   "codemirror_mode": {
    "name": "ipython",
    "version": 3
   },
   "file_extension": ".py",
   "mimetype": "text/x-python",
   "name": "python",
   "nbconvert_exporter": "python",
   "pygments_lexer": "ipython3",
   "version": "3.6.8"
  },
  "toc": {
   "base_numbering": 1,
   "nav_menu": {},
   "number_sections": true,
   "sideBar": true,
   "skip_h1_title": false,
   "title_cell": "Table of Contents",
   "title_sidebar": "Contents",
   "toc_cell": false,
   "toc_position": {},
   "toc_section_display": true,
   "toc_window_display": true
  }
 },
 "nbformat": 4,
 "nbformat_minor": 2
}

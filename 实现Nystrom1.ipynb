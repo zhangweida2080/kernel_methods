{
 "cells": [
  {
   "cell_type": "code",
   "execution_count": 1,
   "id": "99eb743e",
   "metadata": {},
   "outputs": [],
   "source": [
    "from sklearn import datasets, svm\n",
    "import numpy as np \n",
    "import sklearn \n",
    "import numpy as np\n",
    "import scipy.sparse as sp\n",
    "from scipy.linalg import svd\n",
    "from sklearn.kernel_approximation import Nystroem"
   ]
  },
  {
   "cell_type": "markdown",
   "id": "7183c27b",
   "metadata": {},
   "source": [
    "# 准备数据 \n"
   ]
  },
  {
   "cell_type": "code",
   "execution_count": 7,
   "id": "829ddbc0",
   "metadata": {},
   "outputs": [
    {
     "name": "stdout",
     "output_type": "stream",
     "text": [
      "[4 1 0 3 6 5 2]\n"
     ]
    }
   ],
   "source": [
    "X, y = datasets.load_digits(n_class=9, return_X_y=True)\n",
    " \n",
    "data = X / 16.\n",
    "n_samples=81\n",
    "data = data[:81,:]\n",
    "n_components=7  # 挑选7个样本来实验\n",
    "n_components = min(n_samples, n_components)\n",
    "\n",
    "basis_inds = np.random.permutation(n_components)\n",
    "print ( basis_inds )"
   ]
  },
  {
   "cell_type": "markdown",
   "id": "54ce479c",
   "metadata": {},
   "source": [
    "# 准备m个basis "
   ]
  },
  {
   "cell_type": "code",
   "execution_count": 8,
   "id": "abed2a81",
   "metadata": {},
   "outputs": [
    {
     "name": "stdout",
     "output_type": "stream",
     "text": [
      "(7, 64)\n"
     ]
    }
   ],
   "source": [
    "\n",
    "basis = data[basis_inds]\n",
    "print (basis.shape  ) # 7个basis 样本 \n",
    "  \n",
    "\n",
    "basis_kernel = sklearn.metrics.pairwise.pairwise_kernels(\n",
    "            basis,\n",
    "            metric=\"rbf\",\n",
    "            filter_params=True)\n",
    "\n",
    "\n",
    "\n"
   ]
  },
  {
   "cell_type": "markdown",
   "id": "794f0d4b",
   "metadata": {},
   "source": [
    "# svd 得到 近似 "
   ]
  },
  {
   "cell_type": "code",
   "execution_count": 9,
   "id": "d5927314",
   "metadata": {},
   "outputs": [
    {
     "name": "stdout",
     "output_type": "stream",
     "text": [
      "(7, 7)\n",
      "(7,)\n",
      "(7, 7)\n",
      "7\n",
      "normalization_matrix:  (7, 7)\n",
      "(81, 7)\n",
      "(81, 7)\n"
     ]
    }
   ],
   "source": [
    "U, S, V = svd(basis_kernel)\n",
    "S = np.maximum(S, 1e-12)\n",
    "for e in (U, S, V): \n",
    "    print (e.shape , )\n",
    "  \n",
    "normalization_matrix = np.dot(U / np.sqrt(S), V)# 这个就是 m*m 矩阵 \n",
    "\n",
    "components_ = basis\n",
    "component_indices_ = basis_inds\n",
    "print( len(component_indices_) )\n",
    "print (\"normalization_matrix: \", normalization_matrix.shape  )\n",
    "  \n",
    "embedded =   sklearn.metrics.pairwise.pairwise_kernels(\n",
    "            data, basis, \n",
    "            metric=\"rbf\",\n",
    "            filter_params=True,\n",
    "        )\n",
    "print (embedded.shape )\n",
    "  \n",
    "xt = np.dot(embedded,normalization_matrix.T)\n",
    "\n",
    "print (xt.shape ) # 最后转换为 n_samples , n_shape \n"
   ]
  },
  {
   "cell_type": "code",
   "execution_count": null,
   "id": "d8aedd43",
   "metadata": {},
   "outputs": [],
   "source": []
  }
 ],
 "metadata": {
  "kernelspec": {
   "display_name": "Python 3 (ipykernel)",
   "language": "python",
   "name": "python3"
  },
  "language_info": {
   "codemirror_mode": {
    "name": "ipython",
    "version": 3
   },
   "file_extension": ".py",
   "mimetype": "text/x-python",
   "name": "python",
   "nbconvert_exporter": "python",
   "pygments_lexer": "ipython3",
   "version": "3.8.12"
  }
 },
 "nbformat": 4,
 "nbformat_minor": 5
}
